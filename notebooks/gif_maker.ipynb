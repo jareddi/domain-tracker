{
 "cells": [
  {
   "cell_type": "code",
   "execution_count": 12,
   "id": "f29b4fca",
   "metadata": {},
   "outputs": [],
   "source": [
    "!cd ~/Downloads/ntp"
   ]
  },
  {
   "cell_type": "code",
   "execution_count": 26,
   "id": "3e00483e",
   "metadata": {},
   "outputs": [
    {
     "name": "stderr",
     "output_type": "stream",
     "text": [
      "/var/folders/lp/r0k952cs0rdc50c180nvly8m0000gr/T/ipykernel_98226/1793523795.py:9: DeprecationWarning: Starting with ImageIO v3 the behavior of this function will switch to that of iio.v3.imread. To keep the current behavior (and make this warning disappear) use `import imageio.v2 as imageio` or call `imageio.v2.imread` directly.\n",
      "  images.append(imageio.imread(file_path))\n",
      "/var/folders/lp/r0k952cs0rdc50c180nvly8m0000gr/T/ipykernel_98226/1793523795.py:13: DeprecationWarning: Starting with ImageIO v3 the behavior of this function will switch to that of iio.v3.imread. To keep the current behavior (and make this warning disappear) use `import imageio.v2 as imageio` or call `imageio.v2.imread` directly.\n",
      "  images.append(imageio.imread(file_path))\n"
     ]
    }
   ],
   "source": [
    "import os\n",
    "import imageio\n",
    "\n",
    "png_dir = '/Users/jacques/Downloads/ntp/'\n",
    "images = []\n",
    "for file_name in sorted(os.listdir(png_dir)):\n",
    "    if file_name.endswith('.png'):\n",
    "        file_path = os.path.join(png_dir, file_name)\n",
    "        images.append(imageio.imread(file_path))\n",
    "\n",
    "# Make it pause at the end so that the viewers can ponder\n",
    "for _ in range(10):\n",
    "    images.append(imageio.imread(file_path))\n",
    "\n",
    "kargs = {'duration':  1, 'loop': 0}\n",
    "imageio.mimsave('~/Downloads/ntp/movie.gif', images, **kargs)"
   ]
  },
  {
   "cell_type": "code",
   "execution_count": null,
   "id": "784375a8",
   "metadata": {},
   "outputs": [],
   "source": []
  }
 ],
 "metadata": {
  "kernelspec": {
   "display_name": "base",
   "language": "python",
   "name": "python3"
  },
  "language_info": {
   "codemirror_mode": {
    "name": "ipython",
    "version": 3
   },
   "file_extension": ".py",
   "mimetype": "text/x-python",
   "name": "python",
   "nbconvert_exporter": "python",
   "pygments_lexer": "ipython3",
   "version": "3.12.4"
  }
 },
 "nbformat": 4,
 "nbformat_minor": 5
}
